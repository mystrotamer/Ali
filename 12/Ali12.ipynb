{
 "cells": [
  {
   "cell_type": "markdown",
   "metadata": {},
   "source": [
    "This set of notes continues the focus on classes, methods, and data handling in Python, with an emphasis on using dictionary comprehensions and handling key-value pairs. Here's a detailed summary:"
   ]
  },
  {
   "cell_type": "markdown",
   "metadata": {},
   "source": [
    "### Average Salary Calculation\n",
    "- **Average Salary Method**:\n",
    "  - Example:"
   ]
  },
  {
   "cell_type": "code",
   "execution_count": 1,
   "metadata": {},
   "outputs": [],
   "source": [
    "def avg_salaries(self):\n",
    "    all_salaries = [e.salary for e in self.employees]\n",
    "    return sum(all_salaries) / len(all_salaries)"
   ]
  },
  {
   "cell_type": "markdown",
   "metadata": {},
   "source": [
    "- **Average Salary Dictionary Method**:\n",
    "  - Example:"
   ]
  },
  {
   "cell_type": "code",
   "execution_count": 2,
   "metadata": {},
   "outputs": [],
   "source": [
    "def get_employees_avg_salary_dict(self):\n",
    "    all_salaries = {}\n",
    "    for s in self.sections:\n",
    "        for e in s.get_section_employees():\n",
    "            all_salaries[e.name] = e.salary\n",
    "    return sum(all_salaries.values()) / len(all_salaries)"
   ]
  },
  {
   "cell_type": "markdown",
   "metadata": {},
   "source": [
    "  - Simplified with dictionary comprehension:"
   ]
  },
  {
   "cell_type": "code",
   "execution_count": 3,
   "metadata": {},
   "outputs": [],
   "source": [
    "def get_employees_avg_salary_dict(self):\n",
    "    all_salaries = {e.name: e.salary for s in self.sections for e in s.get_section_employees()}\n",
    "    return sum(all_salaries.values()) / len(all_salaries)"
   ]
  },
  {
   "cell_type": "markdown",
   "metadata": {},
   "source": [
    "### Dictionary Methods\n",
    "- **Key-Value Handling**:\n",
    "  - Creating a dictionary:"
   ]
  },
  {
   "cell_type": "code",
   "execution_count": 4,
   "metadata": {},
   "outputs": [],
   "source": [
    "h = {'task1': 'study python', 'task2': 'study js'}"
   ]
  },
  {
   "cell_type": "markdown",
   "metadata": {},
   "source": [
    "  - Getting keys:"
   ]
  },
  {
   "cell_type": "code",
   "execution_count": 5,
   "metadata": {},
   "outputs": [],
   "source": [
    "keys = h.keys()\n",
    "    # Output: dict_keys(['task1', 'task2'])"
   ]
  },
  {
   "cell_type": "markdown",
   "metadata": {},
   "source": [
    "- Getting values:"
   ]
  },
  {
   "cell_type": "code",
   "execution_count": 6,
   "metadata": {},
   "outputs": [],
   "source": [
    "values = h.values()\n",
    "    # Output: dict_values(['study python', 'study js'])"
   ]
  },
  {
   "cell_type": "markdown",
   "metadata": {},
   "source": [
    "  - Getting items (key-value pairs):"
   ]
  },
  {
   "cell_type": "code",
   "execution_count": 7,
   "metadata": {},
   "outputs": [],
   "source": [
    "items = h.items()\n",
    "    # Output: dict_items([('task1', 'study python'), ('task2', 'study js')])"
   ]
  },
  {
   "cell_type": "markdown",
   "metadata": {},
   "source": [
    "### Summary and Key Points\n",
    "- **List Comprehensions**: Efficient way to create lists based on existing lists.\n",
    "- **Dictionary Comprehensions**: Similar to list comprehensions but for dictionaries, allowing for the creation of dictionaries in a concise manner.\n",
    "- **Key-Value Pair Handling**: Methods for accessing and manipulating keys and values in dictionaries."
   ]
  },
  {
   "cell_type": "markdown",
   "metadata": {},
   "source": [
    "### Example Workflow\n",
    "- **Average Salary Calculation with List and Dictionary Comprehensions**:\n",
    "  - Using a list comprehension:"
   ]
  },
  {
   "cell_type": "code",
   "execution_count": 8,
   "metadata": {},
   "outputs": [],
   "source": [
    "def avg_salaries(self):\n",
    "    all_salaries = [e.salary for e in self.employees]\n",
    "    return sum(all_salaries) / len(all_salaries)"
   ]
  },
  {
   "cell_type": "markdown",
   "metadata": {},
   "source": [
    "  - Using a dictionary comprehension:"
   ]
  },
  {
   "cell_type": "code",
   "execution_count": 9,
   "metadata": {},
   "outputs": [],
   "source": [
    "def get_employees_avg_salary_dict(self):\n",
    "    all_salaries = {e.name: e.salary for s in self.sections for e in s.get_section_employees()}\n",
    "    return sum(all_salaries.values()) / len(all_salaries)"
   ]
  },
  {
   "cell_type": "markdown",
   "metadata": {},
   "source": [
    "- These notes highlight the efficient use of list and dictionary comprehensions in Python for data manipulation and method implementations within classes."
   ]
  }
 ],
 "metadata": {
  "kernelspec": {
   "display_name": "Python 3",
   "language": "python",
   "name": "python3"
  },
  "language_info": {
   "codemirror_mode": {
    "name": "ipython",
    "version": 3
   },
   "file_extension": ".py",
   "mimetype": "text/x-python",
   "name": "python",
   "nbconvert_exporter": "python",
   "pygments_lexer": "ipython3",
   "version": "3.12.4"
  }
 },
 "nbformat": 4,
 "nbformat_minor": 2
}
