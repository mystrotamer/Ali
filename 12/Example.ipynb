{
 "cells": [
  {
   "cell_type": "markdown",
   "metadata": {},
   "source": [
    "- Here's a complete and detailed code example that demonstrates the concepts mentioned in the summary.\n",
    "- The code includes class definitions,\n",
    "- methods for average salary calculations using list and dictionary comprehensions,\n",
    "- and examples of dictionary key-value handling:"
   ]
  },
  {
   "cell_type": "code",
   "execution_count": 2,
   "metadata": {},
   "outputs": [
    {
     "name": "stdout",
     "output_type": "stream",
     "text": [
      "Average Salary (List Comprehension): 70000.0\n",
      "Average Salary (Dictionary Comprehension): 70000.0\n",
      "Keys: dict_keys(['task1', 'task2'])\n",
      "Values: dict_values(['study python', 'study js'])\n",
      "Items: dict_items([('task1', 'study python'), ('task2', 'study js')])\n"
     ]
    }
   ],
   "source": [
    "class Employee:\n",
    "    def __init__(self, name, salary):\n",
    "        self.name = name\n",
    "        self.salary = salary\n",
    "\n",
    "class Section:\n",
    "    def __init__(self, name):\n",
    "        self.name = name\n",
    "        self.employees = []\n",
    "\n",
    "    def add_employee(self, employee):\n",
    "        self.employees.append(employee)\n",
    "\n",
    "    def get_section_employees(self):\n",
    "        return self.employees\n",
    "\n",
    "class Company:\n",
    "    def __init__(self):\n",
    "        self.sections = []\n",
    "\n",
    "    def add_section(self, section):\n",
    "        self.sections.append(section)\n",
    "\n",
    "    # Average Salary Calculation using list comprehension\n",
    "    def avg_salaries(self):\n",
    "        all_salaries = [e.salary for s in self.sections for e in s.get_section_employees()]\n",
    "        return sum(all_salaries) / len(all_salaries) if all_salaries else 0\n",
    "\n",
    "    # Average Salary Calculation using dictionary comprehension\n",
    "    def get_employees_avg_salary_dict(self):\n",
    "        all_salaries = {e.name: e.salary for s in self.sections for e in s.get_section_employees()}\n",
    "        return sum(all_salaries.values()) / len(all_salaries) if all_salaries else 0\n",
    "\n",
    "# Example Usage\n",
    "if __name__ == \"__main__\":\n",
    "    # Creating employees\n",
    "    emp1 = Employee('Alice', 70000)\n",
    "    emp2 = Employee('Bob', 80000)\n",
    "    emp3 = Employee('Charlie', 60000)\n",
    "\n",
    "    # Creating sections and adding employees\n",
    "    section1 = Section('IT')\n",
    "    section1.add_employee(emp1)\n",
    "    section1.add_employee(emp2)\n",
    "\n",
    "    section2 = Section('HR')\n",
    "    section2.add_employee(emp3)\n",
    "\n",
    "    # Creating a company and adding sections\n",
    "    company = Company()\n",
    "    company.add_section(section1)\n",
    "    company.add_section(section2)\n",
    "\n",
    "    # Calculating average salaries\n",
    "    print(f\"Average Salary (List Comprehension): {company.avg_salaries()}\")\n",
    "    print(f\"Average Salary (Dictionary Comprehension): {company.get_employees_avg_salary_dict()}\")\n",
    "\n",
    "    # Dictionary Methods Example\n",
    "    tasks = {'task1': 'study python', 'task2': 'study js'}\n",
    "    print(\"Keys:\", tasks.keys())         # Output: dict_keys(['task1', 'task2'])\n",
    "    print(\"Values:\", tasks.values())     # Output: dict_values(['study python', 'study js'])\n",
    "    print(\"Items:\", tasks.items())       # Output: dict_items([('task1', 'study python'), ('task2', 'study js')])\n"
   ]
  },
  {
   "cell_type": "markdown",
   "metadata": {},
   "source": [
    "### Explanation\n",
    "1. **Class Definitions**:\n",
    "   - `Employee`: Represents an employee with a name and salary.\n",
    "   - `Section`: Represents a section within the company that contains employees.\n",
    "   - `Company`: Represents the company that contains multiple sections.\n",
    "\n",
    "2. **Methods for Average Salary Calculation**:\n",
    "   - `avg_salaries`: Calculates the average salary of all employees using a list comprehension.\n",
    "   - `get_employees_avg_salary_dict`: Calculates the average salary of all employees using a dictionary comprehension.\n",
    "\n",
    "3. **Dictionary Methods**:\n",
    "   - Demonstrates how to handle keys, values, and items of a dictionary.\n",
    "\n",
    "### Example Workflow\n",
    "- The example creates employees, assigns them to sections, adds those sections to a company, and calculates the average salary of all employees using both list and dictionary comprehensions. Additionally, it shows how to handle dictionary keys, values, and items.\n",
    "\n",
    "This example covers the key points of list and dictionary comprehensions, class and method definitions, and dictionary handling as described in the summary."
   ]
  }
 ],
 "metadata": {
  "kernelspec": {
   "display_name": "Python 3",
   "language": "python",
   "name": "python3"
  },
  "language_info": {
   "codemirror_mode": {
    "name": "ipython",
    "version": 3
   },
   "file_extension": ".py",
   "mimetype": "text/x-python",
   "name": "python",
   "nbconvert_exporter": "python",
   "pygments_lexer": "ipython3",
   "version": "3.12.4"
  }
 },
 "nbformat": 4,
 "nbformat_minor": 2
}
