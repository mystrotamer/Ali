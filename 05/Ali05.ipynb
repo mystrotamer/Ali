{
 "cells": [
  {
   "cell_type": "markdown",
   "metadata": {},
   "source": [
    "The fifth set of notes focuses on functions in Python, including function definition, function calls, and different types of function arguments. Here's a detailed summary:"
   ]
  },
  {
   "cell_type": "markdown",
   "metadata": {},
   "source": [
    "### Functions\n",
    "- **Definition**:\n",
    "  - Example:"
   ]
  },
  {
   "cell_type": "code",
   "execution_count": 1,
   "metadata": {},
   "outputs": [],
   "source": [
    "def my_sum(x, y):\n",
    "    result = x + y\n",
    "    return result"
   ]
  },
  {
   "cell_type": "code",
   "execution_count": null,
   "metadata": {},
   "outputs": [],
   "source": []
  },
  {
   "cell_type": "markdown",
   "metadata": {},
   "source": [
    " **Call**:\n",
    "  - Example:"
   ]
  },
  {
   "cell_type": "code",
   "execution_count": 2,
   "metadata": {},
   "outputs": [],
   "source": [
    "a = my_sum(5, 6)  # a will be 11"
   ]
  },
  {
   "cell_type": "markdown",
   "metadata": {},
   "source": [
    "### Arguments\n",
    "- **Types of Parameters**:\n",
    "  - Required\n",
    "  - Keyword\n",
    "  - Default\n",
    "  - Variable length"
   ]
  },
  {
   "cell_type": "markdown",
   "metadata": {},
   "source": [
    "#### Required Arguments\n",
    "- Example:"
   ]
  },
  {
   "cell_type": "code",
   "execution_count": 3,
   "metadata": {},
   "outputs": [
    {
     "data": {
      "text/plain": [
       "12"
      ]
     },
     "execution_count": 3,
     "metadata": {},
     "output_type": "execute_result"
    }
   ],
   "source": [
    "def my_sum(x, y):\n",
    "    result = x + y\n",
    "    return result\n",
    "\n",
    "my_sum(5, 7)  # This will cause an error because one argument is missing"
   ]
  },
  {
   "cell_type": "markdown",
   "metadata": {},
   "source": [
    "#### Keyword Arguments\n",
    "- Example:"
   ]
  },
  {
   "cell_type": "code",
   "execution_count": 4,
   "metadata": {},
   "outputs": [],
   "source": [
    "def my_sum(x, y):\n",
    "    result = x + y\n",
    "    return result\n",
    "\n",
    "a = my_sum(y=5, x=3)  # This will work correctly and a will be 8"
   ]
  },
  {
   "cell_type": "markdown",
   "metadata": {},
   "source": [
    "#### Default Arguments\n",
    "- Example:"
   ]
  },
  {
   "cell_type": "code",
   "execution_count": 5,
   "metadata": {},
   "outputs": [],
   "source": [
    "def my_sum(x=0, y=0):\n",
    "    result = x + y\n",
    "    return result\n",
    "a = my_sum(5)  # This will work and a will be 5 because y defaults to 0"
   ]
  },
  {
   "cell_type": "markdown",
   "metadata": {},
   "source": [
    "#### Variable Length Arguments\n",
    "- Not explicitly detailed in the notes, but generally in Python:\n",
    "  - Example using `*args`:"
   ]
  },
  {
   "cell_type": "code",
   "execution_count": 6,
   "metadata": {},
   "outputs": [
    {
     "data": {
      "text/plain": [
       "1"
      ]
     },
     "execution_count": 6,
     "metadata": {},
     "output_type": "execute_result"
    }
   ],
   "source": [
    "def my_sum(*args):\n",
    "    result = 0\n",
    "    for num in args:\n",
    "        result += num\n",
    "        return result\n",
    "\n",
    "my_sum(1, 2, 3, 4)  # This will work and a will be 10"
   ]
  },
  {
   "cell_type": "markdown",
   "metadata": {},
   "source": [
    "### Example Workflow\n",
    "- **Required Arguments Example**:"
   ]
  },
  {
   "cell_type": "code",
   "execution_count": 7,
   "metadata": {},
   "outputs": [],
   "source": [
    "def my_sum(x, y):\n",
    "    result = x + y\n",
    "    return result\n",
    "\n",
    "a = my_sum(5, 7)  # Error: missing 1 required positional argument: 'y'"
   ]
  },
  {
   "cell_type": "markdown",
   "metadata": {},
   "source": [
    "- **Keyword Arguments Example**:"
   ]
  },
  {
   "cell_type": "code",
   "execution_count": 8,
   "metadata": {},
   "outputs": [],
   "source": [
    "def my_sum(x, y):\n",
    "    result = x + y\n",
    "    return result\n",
    "\n",
    "a = my_sum(y=5, x=3)  # a will be 8"
   ]
  },
  {
   "cell_type": "markdown",
   "metadata": {},
   "source": [
    "- **Default Arguments Example**:"
   ]
  },
  {
   "cell_type": "code",
   "execution_count": 9,
   "metadata": {},
   "outputs": [],
   "source": [
    "def my_sum(x=0, y=0):\n",
    "    result = x + y\n",
    "    return result\n",
    "\n",
    "a = my_sum(5)  # a will be 5"
   ]
  },
  {
   "cell_type": "markdown",
   "metadata": {},
   "source": [
    "These notes provide a thorough overview of how to define and call functions in Python, along with the various types of arguments that can be used to make functions more flexible and robust."
   ]
  }
 ],
 "metadata": {
  "kernelspec": {
   "display_name": "Python 3",
   "language": "python",
   "name": "python3"
  },
  "language_info": {
   "codemirror_mode": {
    "name": "ipython",
    "version": 3
   },
   "file_extension": ".py",
   "mimetype": "text/x-python",
   "name": "python",
   "nbconvert_exporter": "python",
   "pygments_lexer": "ipython3",
   "version": "3.12.4"
  }
 },
 "nbformat": 4,
 "nbformat_minor": 2
}
