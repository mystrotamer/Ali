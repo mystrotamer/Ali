{
 "cells": [
  {
   "cell_type": "markdown",
   "metadata": {},
   "source": [
    "- The final page of notes covers dictionary comprehensions in Python,\n",
    "- providing examples of how to create and manipulate dictionaries efficiently.\n",
    "- Here's a detailed summary:"
   ]
  },
  {
   "cell_type": "markdown",
   "metadata": {},
   "source": [
    "### Dictionary Comprehensions\n",
    "- **Basic Dictionary Comprehension**:\n",
    "  - Example:"
   ]
  },
  {
   "cell_type": "code",
   "execution_count": 1,
   "metadata": {},
   "outputs": [],
   "source": [
    "d = {'ahmad': 30, 'ali': 50, 'hassan': 60}\n",
    "h = {k: v for k, v in d.items()}\n",
    "    # h will be {'ahmad': 30, 'ali': 50, 'hassan': 60}"
   ]
  },
  {
   "cell_type": "markdown",
   "metadata": {},
   "source": [
    "- **Filtering in Dictionary Comprehension**:\n",
    "  - Example:"
   ]
  },
  {
   "cell_type": "code",
   "execution_count": 2,
   "metadata": {},
   "outputs": [],
   "source": [
    "d = {'ahmad': 30, 'ali': 50, 'hassan': 60}\n",
    "h = {k: v for k, v in d.items() if v > 40}\n",
    "    # h will be {'ali': 50, 'hassan': 60}"
   ]
  },
  {
   "cell_type": "markdown",
   "metadata": {},
   "source": [
    "- **Using Conditions in Dictionary Comprehension**:\n",
    "  - Example:"
   ]
  },
  {
   "cell_type": "code",
   "execution_count": 3,
   "metadata": {},
   "outputs": [],
   "source": [
    "d = {'ahmad': [10, 20, 30], 'ali': [20, 10], 'hassan': [10, 30, 50]}\n",
    "h = {k: max(v) for k, v in d.items()}\n",
    "    # h will be {'ahmad': 30, 'ali': 20, 'hassan': 50}"
   ]
  },
  {
   "cell_type": "markdown",
   "metadata": {},
   "source": [
    "- **Transforming Data in Dictionary Comprehension**:\n",
    "  - Example:"
   ]
  },
  {
   "cell_type": "code",
   "execution_count": 4,
   "metadata": {},
   "outputs": [],
   "source": [
    "d = {'ahmad': 30, 'ali': 50, 'hassan': 60}\n",
    "v = {k.upper(): v for k, v in d.items()}\n",
    "    # v will be {'AHMAD': 30, 'ALI': 50, 'HASSAN': 60}"
   ]
  },
  {
   "cell_type": "markdown",
   "metadata": {},
   "source": [
    "### Detailed Examples and Explanations\n",
    "- **Creating a Dictionary from a List of Tuples**:\n",
    "  - Example:"
   ]
  },
  {
   "cell_type": "code",
   "execution_count": 5,
   "metadata": {},
   "outputs": [],
   "source": [
    "data = [('ahmad', 30), ('ali', 50), ('hassan', 60)]\n",
    "d = {k: v for k, v in data}\n",
    "    # d will be {'ahmad': 30, 'ali': 50, 'hassan': 60}"
   ]
  },
  {
   "cell_type": "markdown",
   "metadata": {},
   "source": [
    "- **Using List Values in Dictionary Comprehension**:\n",
    "  - Example:"
   ]
  },
  {
   "cell_type": "code",
   "execution_count": 6,
   "metadata": {},
   "outputs": [],
   "source": [
    "d = {'ahmad': [10, 20, 30], 'ali': [20, 10], 'hassan': [10, 30, 50]}\n",
    "h = {k: sum(v) for k, v in d.items()}\n",
    "    # h will be {'ahmad': 60, 'ali': 30, 'hassan': 90}"
   ]
  },
  {
   "cell_type": "markdown",
   "metadata": {},
   "source": [
    "- These notes effectively demonstrate the power and flexibility of dictionary comprehensions in Python,\n",
    "- showing how to create,\n",
    "- filter,\n",
    "- and transform dictionaries in a concise manner."
   ]
  }
 ],
 "metadata": {
  "kernelspec": {
   "display_name": "Python 3",
   "language": "python",
   "name": "python3"
  },
  "language_info": {
   "codemirror_mode": {
    "name": "ipython",
    "version": 3
   },
   "file_extension": ".py",
   "mimetype": "text/x-python",
   "name": "python",
   "nbconvert_exporter": "python",
   "pygments_lexer": "ipython3",
   "version": "3.12.4"
  }
 },
 "nbformat": 4,
 "nbformat_minor": 2
}
