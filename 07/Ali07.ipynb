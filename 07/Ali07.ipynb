{
 "cells": [
  {
   "cell_type": "markdown",
   "metadata": {},
   "source": [
    "- The final set of notes covers more advanced concepts,\n",
    "- including loop examples,\n",
    "- data types,\n",
    "- string methods,\n",
    "- object-oriented programming (OOP) principles,\n",
    "- and the use of constructors in classes.\n",
    "- Here's a detailed summary:"
   ]
  },
  {
   "cell_type": "markdown",
   "metadata": {},
   "source": [
    "### Loop Examples\n",
    "- **While Loop**:\n",
    "  - Example:"
   ]
  },
  {
   "cell_type": "code",
   "execution_count": 1,
   "metadata": {},
   "outputs": [
    {
     "name": "stdout",
     "output_type": "stream",
     "text": [
      "0\n",
      "1\n",
      "2\n",
      "3\n",
      "4\n",
      "5\n",
      "6\n",
      "7\n",
      "8\n",
      "9\n"
     ]
    }
   ],
   "source": [
    "x = 0\n",
    "while x < 10:\n",
    "    print(x)\n",
    "    x += 1"
   ]
  },
  {
   "cell_type": "markdown",
   "metadata": {},
   "source": [
    "- **For Loop with `range` and `continue`/`break`**:\n",
    "  - Example:"
   ]
  },
  {
   "cell_type": "code",
   "execution_count": 2,
   "metadata": {},
   "outputs": [
    {
     "name": "stdout",
     "output_type": "stream",
     "text": [
      "0\n",
      "1\n",
      "2\n",
      "3\n",
      "4\n",
      "6\n",
      "7\n"
     ]
    }
   ],
   "source": [
    "for x in range(10):\n",
    "    if x == 5:\n",
    "        continue  # Skips the rest of the code inside the loop for the current iteration\n",
    "    if x == 8:\n",
    "        break  # Terminates the loop\n",
    "    print(x)"
   ]
  },
  {
   "cell_type": "markdown",
   "metadata": {},
   "source": [
    "### Data Types and String Methods\n",
    "- **String Methods**:\n",
    "  - Example:"
   ]
  },
  {
   "cell_type": "code",
   "execution_count": 3,
   "metadata": {},
   "outputs": [
    {
     "name": "stdout",
     "output_type": "stream",
     "text": [
      "WELCOME\n",
      "Welcome\n"
     ]
    }
   ],
   "source": [
    "s = \"welcome\"\n",
    "print(s.upper())  # Output: WELCOME\n",
    "print(s.title())  # Output: Welcome"
   ]
  },
  {
   "cell_type": "markdown",
   "metadata": {},
   "source": [
    "### Object-Oriented Programming (OOP)\n",
    "- **Basic Concepts**:\n",
    "  - **Class**: Blueprint for creating objects.\n",
    "  - **Self**: Represents the instance of the class.\n",
    "  - **Methods**: Functions defined within a class.\n",
    "  - **Constructor (`__init__`)**: Special method to initialize objects.\n",
    "  - **Inheritance**: Mechanism to create a new class using the properties of an existing class."
   ]
  },
  {
   "cell_type": "markdown",
   "metadata": {},
   "source": [
    "- **Class and Methods Example**:\n",
    "  - Defining a class with a method:"
   ]
  },
  {
   "cell_type": "code",
   "execution_count": 4,
   "metadata": {},
   "outputs": [],
   "source": [
    "class Calc:\n",
    "    def sum(self, x, y):\n",
    "        return x + y"
   ]
  },
  {
   "cell_type": "markdown",
   "metadata": {},
   "source": [
    "  - Creating an object and calling a method:"
   ]
  },
  {
   "cell_type": "code",
   "execution_count": 5,
   "metadata": {},
   "outputs": [],
   "source": [
    "g = Calc()\n",
    "result = g.sum(5, 6)  # result will be 11"
   ]
  },
  {
   "cell_type": "markdown",
   "metadata": {},
   "source": [
    "  - **Constructor Example**:"
   ]
  },
  {
   "cell_type": "code",
   "execution_count": 6,
   "metadata": {},
   "outputs": [
    {
     "name": "stdout",
     "output_type": "stream",
     "text": [
      "Hi\n"
     ]
    }
   ],
   "source": [
    "class Calc:\n",
    "    def __init__(self):\n",
    "        print(\"Hi\")\n",
    "\n",
    "obj = Calc()  # Output: Hi"
   ]
  },
  {
   "cell_type": "markdown",
   "metadata": {},
   "source": [
    "### Common Errors\n",
    "- **Positional Arguments Error**:\n",
    "  - Example and explanation:"
   ]
  },
  {
   "cell_type": "code",
   "execution_count": 7,
   "metadata": {},
   "outputs": [
    {
     "data": {
      "text/plain": [
       "11"
      ]
     },
     "execution_count": 7,
     "metadata": {},
     "output_type": "execute_result"
    }
   ],
   "source": [
    "class Calc:\n",
    "    def sum(self, x, y):\n",
    "        return x + y\n",
    "\n",
    "g = Calc()\n",
    "g.sum(5, 6)  # This will cause an error because the sum method takes only 2 positional arguments, but 3 were given"
   ]
  },
  {
   "cell_type": "markdown",
   "metadata": {},
   "source": [
    "### Key Points\n",
    "- **Everything is an object** in Python.\n",
    "- The `__init__` method (constructor) is called automatically when a new object is created.\n",
    "- Using string methods like `upper()` and `title()` to manipulate string data."
   ]
  },
  {
   "cell_type": "markdown",
   "metadata": {},
   "source": [
    "- These notes offer a comprehensive overview of loops,\n",
    "- data types,\n",
    "- string methods,\n",
    "- and fundamental OOP concepts in Python,\n",
    "- along with practical examples and common errors."
   ]
  }
 ],
 "metadata": {
  "kernelspec": {
   "display_name": "Python 3",
   "language": "python",
   "name": "python3"
  },
  "language_info": {
   "codemirror_mode": {
    "name": "ipython",
    "version": 3
   },
   "file_extension": ".py",
   "mimetype": "text/x-python",
   "name": "python",
   "nbconvert_exporter": "python",
   "pygments_lexer": "ipython3",
   "version": "3.12.4"
  }
 },
 "nbformat": 4,
 "nbformat_minor": 2
}
