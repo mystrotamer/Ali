{
 "cells": [
  {
   "cell_type": "markdown",
   "metadata": {},
   "source": [
    "- The final set of notes elaborates on using classes and methods in Python,\n",
    "- focusing on real-world applications such as calculating company sections and employee salaries.\n",
    "- Here's a detailed summary:"
   ]
  },
  {
   "cell_type": "markdown",
   "metadata": {},
   "source": [
    "### Classes and Methods\n",
    "- **Defining a Class**:\n",
    "  - Example class `Company` with methods to handle company sections and employee data:"
   ]
  },
  {
   "cell_type": "code",
   "execution_count": 1,
   "metadata": {},
   "outputs": [],
   "source": [
    "class Company:\n",
    "    def get_company_sections(self):\n",
    "        sections = []\n",
    "        for s in self.sections:\n",
    "            sections.append(s.name)\n",
    "        return sections"
   ]
  },
  {
   "cell_type": "markdown",
   "metadata": {},
   "source": [
    "- **Using List Comprehensions in Methods**:\n",
    "  - Simplifying the method with list comprehension:"
   ]
  },
  {
   "cell_type": "code",
   "execution_count": 2,
   "metadata": {},
   "outputs": [],
   "source": [
    "class Company:\n",
    "    def get_company_sections(self):\n",
    "        return [s.name for s in self.sections]"
   ]
  },
  {
   "cell_type": "markdown",
   "metadata": {},
   "source": [
    "- **Calculating Average Employee Salary**:\n",
    "  - Example method to calculate average salary:"
   ]
  },
  {
   "cell_type": "code",
   "execution_count": 3,
   "metadata": {},
   "outputs": [],
   "source": [
    "class Company:\n",
    "    def get_employees_avg_salary(self):\n",
    "        all_salaries = []\n",
    "        for s in self.sections:\n",
    "            for e in s.get_section_employees():\n",
    "                all_salaries.append(e.salary)\n",
    "        return sum(all_salaries) / len(all_salaries)"
   ]
  },
  {
   "cell_type": "markdown",
   "metadata": {},
   "source": [
    "  - Simplifying with list comprehension:"
   ]
  },
  {
   "cell_type": "code",
   "execution_count": 4,
   "metadata": {},
   "outputs": [],
   "source": [
    "class Company:\n",
    "    def get_employees_avg_salary(self):\n",
    "        all_salaries = [e.salary for s in self.sections for e in s.get_section_employees()]\n",
    "        return sum(all_salaries) / len(all_salaries)"
   ]
  },
  {
   "cell_type": "markdown",
   "metadata": {},
   "source": [
    "### Class Example: Section\n",
    "- **Defining the `Section` Class**:\n",
    "  - Example class with a method to get employee names:"
   ]
  },
  {
   "cell_type": "code",
   "execution_count": 5,
   "metadata": {},
   "outputs": [],
   "source": [
    "class Section:\n",
    "    def get_section_employee_names(self):\n",
    "        employees = [e.name for e in self.employees]\n",
    "        return employees"
   ]
  },
  {
   "cell_type": "markdown",
   "metadata": {},
   "source": [
    "### Key Points and Highlights\n",
    "- **Use of List Comprehensions**: Demonstrates how to simplify code using list comprehensions for more readable and concise code.\n",
    "- **Method Definitions**: Shows how to define methods within classes to perform specific tasks related to the class.\n",
    "- **Real-World Applications**: Practical examples of handling company data and employee information.\n",
    "\n"
   ]
  },
  {
   "cell_type": "markdown",
   "metadata": {},
   "source": [
    "### Example Workflow\n",
    "- **Calculating Company Sections**:\n",
    "  - Example:"
   ]
  },
  {
   "cell_type": "code",
   "execution_count": 6,
   "metadata": {},
   "outputs": [],
   "source": [
    "class Company:\n",
    "    def get_company_sections(self):\n",
    "        return [s.name for s in self.sections]"
   ]
  },
  {
   "cell_type": "markdown",
   "metadata": {},
   "source": [
    "- **Calculating Average Salary**:\n",
    "  - Example:"
   ]
  },
  {
   "cell_type": "code",
   "execution_count": 7,
   "metadata": {},
   "outputs": [],
   "source": [
    "class Company:\n",
    "    def get_employees_avg_salary(self):\n",
    "        all_salaries = [e.salary for s in self.sections for e in s.get_section_employees()]\n",
    "        return sum(all_salaries) / len(all_salaries)"
   ]
  },
  {
   "cell_type": "markdown",
   "metadata": {},
   "source": [
    "- Example:"
   ]
  },
  {
   "cell_type": "code",
   "execution_count": 8,
   "metadata": {},
   "outputs": [
    {
     "name": "stdout",
     "output_type": "stream",
     "text": [
      "['HR', 'IT', 'Finance']\n"
     ]
    }
   ],
   "source": [
    "class Section:\n",
    "    def __init__(self, name):\n",
    "        self.name = name\n",
    "\n",
    "class Company:\n",
    "    def __init__(self, name):\n",
    "        self.name = name\n",
    "        self.sections = []\n",
    "\n",
    "    def add_section(self, section):\n",
    "        self.sections.append(section)\n",
    "\n",
    "    def get_company_sections(self):\n",
    "        sections = []\n",
    "        for s in self.sections:\n",
    "            sections.append(s.name)\n",
    "        return sections\n",
    "\n",
    "# إنشاء مثال لاستخدام الكلاس\n",
    "section1 = Section(\"HR\")\n",
    "section2 = Section(\"IT\")\n",
    "section3 = Section(\"Finance\")\n",
    "\n",
    "company = Company(\"TechCorp\")\n",
    "company.add_section(section1)\n",
    "company.add_section(section2)\n",
    "company.add_section(section3)\n",
    "\n",
    "print(company.get_company_sections())"
   ]
  },
  {
   "cell_type": "markdown",
   "metadata": {},
   "source": [
    "- These notes provide a clear and practical understanding of how to use classes and methods to manage and process data in Python,\n",
    "- highlighting the efficiency of list comprehensions in simplifying complex tasks."
   ]
  }
 ],
 "metadata": {
  "kernelspec": {
   "display_name": "Python 3",
   "language": "python",
   "name": "python3"
  },
  "language_info": {
   "codemirror_mode": {
    "name": "ipython",
    "version": 3
   },
   "file_extension": ".py",
   "mimetype": "text/x-python",
   "name": "python",
   "nbconvert_exporter": "python",
   "pygments_lexer": "ipython3",
   "version": "3.12.4"
  }
 },
 "nbformat": 4,
 "nbformat_minor": 2
}
