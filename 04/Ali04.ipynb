{
 "cells": [
  {
   "cell_type": "markdown",
   "metadata": {},
   "source": [
    "The fourth set of notes focuses on comparison operators, assignment operations, conditional statements, and nested if-else statements in Python. Here's a detailed breakdown of the content:"
   ]
  },
  {
   "cell_type": "markdown",
   "metadata": {},
   "source": [
    "### Comparison Operators\n",
    "- **Greater than (`>`), Greater than or equal to (`>=`), Less than (`<`), Less than or equal to (`<=`), Equal to (`==`), Not equal to (`!=`)**.\n",
    "- Example:"
   ]
  },
  {
   "cell_type": "code",
   "execution_count": 1,
   "metadata": {},
   "outputs": [
    {
     "name": "stdout",
     "output_type": "stream",
     "text": [
      "True\n",
      "True\n"
     ]
    }
   ],
   "source": [
    "x = 5\n",
    "print(x > 1)  # True\n",
    "print(x == 5)  # True"
   ]
  },
  {
   "cell_type": "markdown",
   "metadata": {},
   "source": [
    "### Assignment Operations\n",
    "- Example:"
   ]
  },
  {
   "cell_type": "code",
   "execution_count": 2,
   "metadata": {},
   "outputs": [
    {
     "name": "stdout",
     "output_type": "stream",
     "text": [
      "6\n",
      "5\n",
      "10\n",
      "5.0\n"
     ]
    }
   ],
   "source": [
    "x = 5\n",
    "x += 1  # Equivalent to x = x + 1\n",
    "print(x)  # 6\n",
    "\n",
    "x -= 1  # Equivalent to x = x - 1\n",
    "print(x)  # 4\n",
    "\n",
    "x *= 2  # Equivalent to x = x * 2\n",
    "print(x)  # 10\n",
    "\n",
    "x /= 2  # Equivalent to x = x / 2\n",
    "print(x)  # 2.5"
   ]
  },
  {
   "cell_type": "markdown",
   "metadata": {},
   "source": [
    "### Conditional Statements\n",
    "- **if, elif, else**: Used for decision making.\n",
    "- Example:"
   ]
  },
  {
   "cell_type": "code",
   "execution_count": 3,
   "metadata": {},
   "outputs": [
    {
     "name": "stdout",
     "output_type": "stream",
     "text": [
      "x is greater than 5\n"
     ]
    }
   ],
   "source": [
    "x = 10\n",
    "if x > 5:\n",
    "    print(\"x is greater than 5\")\n",
    "elif x == 5:\n",
    "    print(\"x is equal to 5\")\n",
    "else:\n",
    "    print(\"x is less than 5\")"
   ]
  },
  {
   "cell_type": "markdown",
   "metadata": {},
   "source": [
    "### Nested if Statements\n",
    "- Example:"
   ]
  },
  {
   "cell_type": "code",
   "execution_count": 4,
   "metadata": {},
   "outputs": [
    {
     "name": "stdout",
     "output_type": "stream",
     "text": [
      "x is less than 20\n",
      "x is greater than or equal to 10\n"
     ]
    }
   ],
   "source": [
    "x = 15\n",
    "if x < 20:\n",
    "    print(\"x is less than 20\")\n",
    "if x < 10:\n",
    "    print(\"x is less than 10\")\n",
    "else:\n",
    "    print(\"x is greater than or equal to 10\")"
   ]
  },
  {
   "cell_type": "markdown",
   "metadata": {},
   "source": [
    "### Key Points and Highlights\n",
    "- **Default else**: If none of the conditions are met, the `else` block executes.\n",
    "- **Nested if**: An `if` statement inside another `if` statement to create complex conditions.\n",
    "\n",
    "### Example Workflow\n",
    "- **Comparison and Assignment Example**:"
   ]
  },
  {
   "cell_type": "code",
   "execution_count": 5,
   "metadata": {},
   "outputs": [],
   "source": [
    "x = 5\n",
    "x = x + 1  # x is now 6\n",
    "x = x - 1  # x is now 5\n",
    "x = x * 2  # x is now 10\n",
    "x = x / 2  # x is now 5.0"
   ]
  },
  {
   "cell_type": "markdown",
   "metadata": {},
   "source": [
    "- **Conditional Statements Example**:"
   ]
  },
  {
   "cell_type": "code",
   "execution_count": 6,
   "metadata": {},
   "outputs": [
    {
     "name": "stdout",
     "output_type": "stream",
     "text": [
      "OK\n"
     ]
    }
   ],
   "source": [
    "x = 10\n",
    "if x > 5:\n",
    "    print(\"OK\")\n",
    "elif x > 2:\n",
    "    print(\"Good\")\n",
    "else:\n",
    "    print(\"Bad\")"
   ]
  },
  {
   "cell_type": "markdown",
   "metadata": {},
   "source": [
    "These notes thoroughly cover the basics of comparison operations, assignment, and control flow using conditional statements."
   ]
  }
 ],
 "metadata": {
  "kernelspec": {
   "display_name": "Python 3",
   "language": "python",
   "name": "python3"
  },
  "language_info": {
   "codemirror_mode": {
    "name": "ipython",
    "version": 3
   },
   "file_extension": ".py",
   "mimetype": "text/x-python",
   "name": "python",
   "nbconvert_exporter": "python",
   "pygments_lexer": "ipython3",
   "version": "3.12.4"
  }
 },
 "nbformat": 4,
 "nbformat_minor": 2
}
