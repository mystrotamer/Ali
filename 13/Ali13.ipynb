{
 "cells": [
  {
   "cell_type": "markdown",
   "metadata": {},
   "source": [
    "- This set of notes continues to focus on dictionary manipulations and comprehensions,\n",
    "- as well as working with nested dictionaries and lists in Python.\n",
    "- Here's a detailed summary:"
   ]
  },
  {
   "cell_type": "markdown",
   "metadata": {},
   "source": [
    "### Dictionary Manipulations\n",
    "- **Basic Dictionary Creation and Manipulation**:\n",
    "  - Example of creating a dictionary with tasks and their descriptions:"
   ]
  },
  {
   "cell_type": "code",
   "execution_count": 1,
   "metadata": {},
   "outputs": [],
   "source": [
    "h = {'task1': 'study python'}"
   ]
  },
  {
   "cell_type": "markdown",
   "metadata": {},
   "source": [
    "  - Updating a dictionary:"
   ]
  },
  {
   "cell_type": "code",
   "execution_count": 2,
   "metadata": {},
   "outputs": [],
   "source": [
    "h['task2'] = 'study js'\n",
    "    # h is now {'task1': 'study python', 'task2': 'study js'}"
   ]
  },
  {
   "cell_type": "markdown",
   "metadata": {},
   "source": [
    "- **Nested Dictionary and List**:\n",
    "  - Example of a dictionary containing lists as values:"
   ]
  },
  {
   "cell_type": "code",
   "execution_count": 3,
   "metadata": {},
   "outputs": [],
   "source": [
    "g = {'ahmad': ['python', 'c#', 'java'], 'ali': ['swift', 'ruby']}"
   ]
  },
  {
   "cell_type": "markdown",
   "metadata": {},
   "source": [
    "  - Appending to a list within a dictionary:"
   ]
  },
  {
   "cell_type": "code",
   "execution_count": 4,
   "metadata": {},
   "outputs": [],
   "source": [
    "g['ahmad'].append('php')\n",
    "    # g is now {'ahmad': ['python', 'c#', 'java', 'php'], 'ali': ['swift', 'ruby']}"
   ]
  },
  {
   "cell_type": "markdown",
   "metadata": {},
   "source": [
    "### Working with Nested Data Structures\n",
    "- **Accessing and Modifying Nested Lists**:\n",
    "  - Example of accessing nested list values:"
   ]
  },
  {
   "cell_type": "code",
   "execution_count": 5,
   "metadata": {},
   "outputs": [],
   "source": [
    "values_of_ahmad = g['ahmad']\n",
    "    # values_of_ahmad is ['python', 'c#', 'java', 'php']"
   ]
  },
  {
   "cell_type": "markdown",
   "metadata": {},
   "source": [
    "- **Complex Nested Dictionary**:\n",
    "  - Example of a more complex nested dictionary structure for tasks:"
   ]
  },
  {
   "cell_type": "code",
   "execution_count": 6,
   "metadata": {},
   "outputs": [],
   "source": [
    "t = {\n",
    "    'task1': {\n",
    "        'title': 'study python',\n",
    "        'duration': '2hr',\n",
    "        'creation_date': '10-7-2024'\n",
    "    },\n",
    "    'task2': {\n",
    "        'title': 'study js',\n",
    "        'duration': '1hr',\n",
    "        'creation_date': '19-7-2024'\n",
    "    }\n",
    "}"
   ]
  },
  {
   "cell_type": "markdown",
   "metadata": {},
   "source": [
    "### Summary and Key Points\n",
    "- **Dictionary Manipulation**: Adding, updating, and accessing elements in a dictionary, including handling nested lists and dictionaries.\n",
    "- **Nested Data Structures**: Efficient handling of complex data structures that include dictionaries within dictionaries, or dictionaries containing lists.\n",
    "- **Practical Examples**: Real-world examples such as task management, highlighting how to structure and manipulate data.\n",
    "\n",
    "### Example Workflow\n",
    "- **Adding Elements to a Dictionary**:\n",
    "  - Example:"
   ]
  },
  {
   "cell_type": "code",
   "execution_count": 7,
   "metadata": {},
   "outputs": [],
   "source": [
    "h = {'task1': 'study python'}\n",
    "h['task2'] = 'study js'"
   ]
  },
  {
   "cell_type": "markdown",
   "metadata": {},
   "source": [
    "- **Appending to Nested Lists in a Dictionary**:\n",
    "  - Example:"
   ]
  },
  {
   "cell_type": "code",
   "execution_count": 8,
   "metadata": {},
   "outputs": [],
   "source": [
    "g = {'ahmad': ['python', 'c#', 'java'], 'ali': ['swift', 'ruby']}\n",
    "g['ahmad'].append('php')"
   ]
  },
  {
   "cell_type": "markdown",
   "metadata": {},
   "source": [
    "- **Creating and Using Nested Dictionaries**:\n",
    "  - Example:"
   ]
  },
  {
   "cell_type": "code",
   "execution_count": 9,
   "metadata": {},
   "outputs": [],
   "source": [
    "t = {\n",
    "    'task1': {\n",
    "        'title': 'study python',\n",
    "        'duration': '2hr',\n",
    "        'creation_date': '10-7-2024'\n",
    "    },\n",
    "    'task2': {\n",
    "        'title': 'study js',\n",
    "        'duration': '1hr',\n",
    "        'creation_date': '19-7-2024'\n",
    "    }\n",
    "}"
   ]
  },
  {
   "cell_type": "markdown",
   "metadata": {},
   "source": [
    "- These notes provide a comprehensive guide on how to manage and manipulate dictionaries and nested data structures in Python,\n",
    "- which is crucial for handling complex data in real-world applications."
   ]
  }
 ],
 "metadata": {
  "kernelspec": {
   "display_name": "Python 3",
   "language": "python",
   "name": "python3"
  },
  "language_info": {
   "codemirror_mode": {
    "name": "ipython",
    "version": 3
   },
   "file_extension": ".py",
   "mimetype": "text/x-python",
   "name": "python",
   "nbconvert_exporter": "python",
   "pygments_lexer": "ipython3",
   "version": "3.12.4"
  }
 },
 "nbformat": 4,
 "nbformat_minor": 2
}
