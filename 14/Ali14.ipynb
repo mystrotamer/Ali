{
 "cells": [
  {
   "cell_type": "markdown",
   "metadata": {},
   "source": [
    "- This page of notes continues with the topic of nested dictionaries,\n",
    "- focusing on accessing, modifying, and iterating through nested dictionary data structures.\n",
    "- Here's a detailed summary:"
   ]
  },
  {
   "cell_type": "markdown",
   "metadata": {},
   "source": [
    "### Accessing Nested Dictionary Data\n",
    "- **Accessing Nested Values**:\n",
    "  - Example:"
   ]
  },
  {
   "cell_type": "code",
   "execution_count": 1,
   "metadata": {},
   "outputs": [],
   "source": [
    "t = {\n",
    "    'task1': {\n",
    "        'title': 'study python',\n",
    "        'duration': '2hr',\n",
    "        'creation_date': '10-7-2024'\n",
    "    },\n",
    "    'task2': {\n",
    "        'title': 'study js',\n",
    "        'duration': '1hr',\n",
    "        'creation_date': '19-7-2024'\n",
    "    }\n",
    "}"
   ]
  },
  {
   "cell_type": "code",
   "execution_count": 2,
   "metadata": {},
   "outputs": [
    {
     "name": "stdout",
     "output_type": "stream",
     "text": [
      "study python\n",
      "2hr\n"
     ]
    }
   ],
   "source": [
    "    # Accessing a nested value\n",
    "print(t['task1']['title'])  # Output: study python\n",
    "print(t['task1']['duration'])  # Output: 2hr"
   ]
  },
  {
   "cell_type": "markdown",
   "metadata": {},
   "source": [
    "### Iterating Through Nested Dictionaries\n",
    "- **Using `items()` Method**:\n",
    "  - Example of iterating through keys and values of a nested dictionary:"
   ]
  },
  {
   "cell_type": "code",
   "execution_count": 3,
   "metadata": {},
   "outputs": [
    {
     "name": "stdout",
     "output_type": "stream",
     "text": [
      "task1: study python\n",
      "task2: study js\n"
     ]
    }
   ],
   "source": [
    "for task, details in t.items():\n",
    "    print(f\"{task}: {details['title']}\")\n",
    "    # Output:\n",
    "    # task1: study python\n",
    "    # task2: study js"
   ]
  },
  {
   "cell_type": "markdown",
   "metadata": {},
   "source": [
    "- **Iterating and Accessing Multiple Levels**:\n",
    "  - Example:"
   ]
  },
  {
   "cell_type": "code",
   "execution_count": 4,
   "metadata": {},
   "outputs": [
    {
     "name": "stdout",
     "output_type": "stream",
     "text": [
      "task1: study python 2hr 10-7-2024\n",
      "task2: study js 1hr 19-7-2024\n"
     ]
    }
   ],
   "source": [
    "for task, details in t.items():\n",
    "    print(f\"{task}: {details['title']} {details['duration']} {details['creation_date']}\")\n",
    "    # Output:\n",
    "    # task1: study python 2hr 10-7-2024\n",
    "    # task2: study js 1hr 19-7-2024"
   ]
  },
  {
   "cell_type": "markdown",
   "metadata": {},
   "source": [
    "### Modifying Nested Dictionary Data\n",
    "- **Modifying Nested Values**:\n",
    "  - Example:"
   ]
  },
  {
   "cell_type": "code",
   "execution_count": 5,
   "metadata": {},
   "outputs": [
    {
     "name": "stdout",
     "output_type": "stream",
     "text": [
      "3hr\n"
     ]
    }
   ],
   "source": [
    "t['task1']['duration'] = '3hr'\n",
    "print(t['task1']['duration'])  # Output: 3hr"
   ]
  },
  {
   "cell_type": "markdown",
   "metadata": {},
   "source": [
    "### Practical Examples and Key Points\n",
    "- **Accessing Nested Keys and Values**:\n",
    "  - Example:"
   ]
  },
  {
   "cell_type": "code",
   "execution_count": 6,
   "metadata": {},
   "outputs": [
    {
     "name": "stdout",
     "output_type": "stream",
     "text": [
      "study python\n"
     ]
    }
   ],
   "source": [
    "print(t['task1']['title'])  # Accesses and prints 'study python'"
   ]
  },
  {
   "cell_type": "markdown",
   "metadata": {},
   "source": [
    "- **Using `for` Loop to Access and Print Nested Values**:\n",
    "  - Example:\n",
    "    ```python\n",
    "    for task, details in t.items():\n",
    "        print(f\"{task}: {details['title']} {details['duration']}\")\n",
    "    # Accesses and prints nested values in a formatted string\n",
    "    ```\n",
    "\n"
   ]
  },
  {
   "cell_type": "markdown",
   "metadata": {},
   "source": [
    "- **Modifying Nested Values**:\n",
    "  - Example:"
   ]
  },
  {
   "cell_type": "code",
   "execution_count": 7,
   "metadata": {},
   "outputs": [
    {
     "name": "stdout",
     "output_type": "stream",
     "text": [
      "3hr\n"
     ]
    }
   ],
   "source": [
    "t['task1']['duration'] = '3hr'\n",
    "print(t['task1']['duration'])  # Output: 3hr"
   ]
  },
  {
   "cell_type": "markdown",
   "metadata": {},
   "source": [
    "### Summary\n",
    "- These notes emphasize the practical aspects of\n",
    "    - accessing,\n",
    "    - iterating,\n",
    "    - and modifying data in nested dictionaries.\n",
    "- Demonstrates the importance of understanding how to navigate complex data structures for real-world applications such as task management."
   ]
  }
 ],
 "metadata": {
  "kernelspec": {
   "display_name": "Python 3",
   "language": "python",
   "name": "python3"
  },
  "language_info": {
   "codemirror_mode": {
    "name": "ipython",
    "version": 3
   },
   "file_extension": ".py",
   "mimetype": "text/x-python",
   "name": "python",
   "nbconvert_exporter": "python",
   "pygments_lexer": "ipython3",
   "version": "3.12.4"
  }
 },
 "nbformat": 4,
 "nbformat_minor": 2
}
