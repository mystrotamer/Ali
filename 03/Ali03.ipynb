{
 "cells": [
  {
   "cell_type": "markdown",
   "metadata": {},
   "source": [
    "- The third set of notes elaborates further on functions,\n",
    "- type conversion,\n",
    "- user input,\n",
    "- and various operators in Python.\n",
    "- Here's a breakdown of the content:"
   ]
  },
  {
   "cell_type": "markdown",
   "metadata": {},
   "source": [
    "### Functions and User Input\n",
    "- **Function Definition**:\n",
    "  - Example:"
   ]
  },
  {
   "cell_type": "code",
   "execution_count": 1,
   "metadata": {},
   "outputs": [],
   "source": [
    "def f():\n",
    "    x = input(\"Enter your age: \")\n",
    "    return x"
   ]
  },
  {
   "cell_type": "markdown",
   "metadata": {},
   "source": [
    "- **Using `eval` with Input**:\n",
    "  - Example:"
   ]
  },
  {
   "cell_type": "code",
   "execution_count": 2,
   "metadata": {},
   "outputs": [
    {
     "name": "stdout",
     "output_type": "stream",
     "text": [
      "54\n",
      "<class 'int'>\n"
     ]
    }
   ],
   "source": [
    "f = eval(input(\"Enter your age: \"))\n",
    "print(f * 3)  # Multiplies the input by 3\n",
    "print(type(f))  # Shows the type of f"
   ]
  },
  {
   "cell_type": "markdown",
   "metadata": {},
   "source": [
    "    - Input example: If the user enters `2.5`, the output will be `7.5` and the type will be `float`."
   ]
  },
  {
   "cell_type": "markdown",
   "metadata": {},
   "source": [
    "### Type Conversion\n",
    "- **Conversion to Integer**:\n",
    "  - Example:"
   ]
  },
  {
   "cell_type": "code",
   "execution_count": 3,
   "metadata": {},
   "outputs": [
    {
     "name": "stdout",
     "output_type": "stream",
     "text": [
      "54\n",
      "<class 'int'>\n"
     ]
    }
   ],
   "source": [
    "f = int(input(\"Enter your age: \") or 10)\n",
    "print(f * 3)\n",
    "print(type(f))"
   ]
  },
  {
   "cell_type": "markdown",
   "metadata": {},
   "source": [
    "  - If the user does not provide input, it defaults to 10."
   ]
  },
  {
   "cell_type": "markdown",
   "metadata": {},
   "source": [
    "### Operators\n",
    "- **Arithmetic Operators**:\n",
    "  - Addition (`+`)\n",
    "  - Subtraction (`-`)\n",
    "  - Multiplication (`*`)\n",
    "  - Division (`/`)\n",
    "  - Floor Division (`//`)\n",
    "  - Modulus (`%`)\n",
    "  - Example:"
   ]
  },
  {
   "cell_type": "code",
   "execution_count": 4,
   "metadata": {},
   "outputs": [
    {
     "data": {
      "text/plain": [
       "'\\n9 / 4 = 2.25\\n9 // 4 = 2\\n9 % 4 = 1\\n'"
      ]
     },
     "execution_count": 4,
     "metadata": {},
     "output_type": "execute_result"
    }
   ],
   "source": [
    "'''\n",
    "9 / 4 = 2.25\n",
    "9 // 4 = 2\n",
    "9 % 4 = 1\n",
    "'''"
   ]
  },
  {
   "cell_type": "markdown",
   "metadata": {},
   "source": [
    "### Detailed Examples and Explanations\n",
    "- **Using `input` and `eval`**:\n",
    "  - Example:"
   ]
  },
  {
   "cell_type": "code",
   "execution_count": 5,
   "metadata": {},
   "outputs": [
    {
     "name": "stdout",
     "output_type": "stream",
     "text": [
      "54\n",
      "<class 'int'>\n"
     ]
    }
   ],
   "source": [
    "f = eval(input(\"Enter your age: \"))  # Converts input to appropriate type (int, float)\n",
    "print(f * 3)\n",
    "print(type(f))"
   ]
  },
  {
   "cell_type": "markdown",
   "metadata": {},
   "source": [
    "### Additional Notes\n",
    "- **Annotations in the code**:\n",
    "  - Notes and highlights in different colors for better understanding.\n",
    "  - Emphasis on the type of data and results after operations."
   ]
  },
  {
   "cell_type": "markdown",
   "metadata": {},
   "source": [
    "- These notes provide a clear understanding of handling user input,\n",
    "- performing type conversions,\n",
    "- defining functions,\n",
    "- and using basic operators in Python. "
   ]
  }
 ],
 "metadata": {
  "kernelspec": {
   "display_name": "Python 3",
   "language": "python",
   "name": "python3"
  },
  "language_info": {
   "codemirror_mode": {
    "name": "ipython",
    "version": 3
   },
   "file_extension": ".py",
   "mimetype": "text/x-python",
   "name": "python",
   "nbconvert_exporter": "python",
   "pygments_lexer": "ipython3",
   "version": "3.12.4"
  }
 },
 "nbformat": 4,
 "nbformat_minor": 2
}
